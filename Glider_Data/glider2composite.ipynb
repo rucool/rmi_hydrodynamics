{
 "cells": [
  {
   "cell_type": "code",
   "execution_count": null,
   "id": "56c38a42-dccb-444b-bedb-5bc0e517443a",
   "metadata": {},
   "outputs": [],
   "source": [
    "import xarray as xr\n",
    "import pandas as pd\n",
    "import matplotlib.pyplot as plt\n",
    "import cool_maps.plot as cplt\n",
    "import cartopy.crs as ccrs\n",
    "import cmocean.cm as cmo\n",
    "import numpy as np\n",
    "from gsw import SA_from_SP, CT_from_t, rho, p_from_z, pot_rho_t_exact\n",
    "import time\n",
    "import geopandas\n",
    "import scipy\n",
    "import datetime as dt\n",
    "from collections import namedtuple\n",
    "from erddapy import ERDDAP\n",
    "from pprint import pprint\n",
    "import multiprocessing\n",
    "import matplotlib.dates as mdates\n",
    "import geopandas\n",
    "from cool_maps.calc import calculate_ticks, dd2dms, fmt\n",
    "\n",
    "from data_functions import *"
   ]
  },
  {
   "cell_type": "markdown",
   "id": "8d01e609-d64d-46de-8072-4ba31080aa16",
   "metadata": {},
   "source": [
    "## Read in lease area outline shapefiles, subset to NJ lease areas and clip the glider data to those lease areas\n",
    "\n",
    "Wind lease area outlines shape file downloaded from the [Marine Cadastre](https://hub.marinecadastre.gov/datasets/709831444a234968966667d84bcc0357_8/explore?location=33.829924%2C-96.692134%2C5.21)"
   ]
  },
  {
   "cell_type": "code",
   "execution_count": null,
   "id": "f79c9f61-8156-4f2d-8d87-f099b7b856a4",
   "metadata": {},
   "outputs": [],
   "source": [
    "fname = '../Model 1/data/Wind_Lease_Outlines_2_2023.shp'\n",
    "wla = geopandas.read_file(fname)\n",
    "wla.head()\n",
    "\n",
    "nj_wla=wla[wla.STATE=='New Jersey']\n",
    "nj_wla"
   ]
  },
  {
   "cell_type": "markdown",
   "id": "a18793c9-759a-4122-a990-4b0ee874a665",
   "metadata": {
    "tags": []
   },
   "source": [
    "## Get all Gliders in BBOX and clip to NJ WLA\n",
    "\n",
    "** NOTE ** This block of code takes a very long time to run"
   ]
  },
  {
   "cell_type": "code",
   "execution_count": null,
   "id": "e23546ee-f376-4f18-96bc-2a3de6e49106",
   "metadata": {
    "tags": []
   },
   "outputs": [],
   "source": [
    "Glider = namedtuple('Glider', ['name', 'lon', 'lat'])\n",
    "time_formatter = '%Y-%m-%dT%H:%M:%SZ'\n",
    "\n",
    "rename_gliders = {}\n",
    "# rename_gliders[\"time (UTC)\"] = \"time\"\n",
    "rename_gliders[\"longitude\"] = \"lon\"\n",
    "rename_gliders[\"latitude\"] = \"lat\"\n",
    "\n",
    "\n",
    "# change stuff here\n",
    "bbox=[-75,-71.5,38,41.5]\n",
    "\n",
    "t0 = dt.datetime(2010, 1, 1, 0, 0) #start\n",
    "\n",
    "t1 =  dt.datetime(2023, 12, 31, 0, 0)\n",
    "\n",
    "\n",
    "gdf=get_active_gliders(bbox=bbox, t0=t0,t1=t1), variables=None, \n",
    "                       timeout=5, parallel=False)\n",
    "\n",
    "gdf=gdf.reset_index()\n",
    "gdf.time=pd.to_datetime(gdf.time)\n",
    "gdf.to_pickle('./all_gliders_2010_present.pkl')"
   ]
  },
  {
   "cell_type": "markdown",
   "id": "e8d19a2f-e0f7-4246-85d2-8982f7bc1c26",
   "metadata": {},
   "source": [
    "## Clip glider data to be inside of the NJ lease areas"
   ]
  },
  {
   "cell_type": "code",
   "execution_count": null,
   "id": "54dec958-942c-4855-b79b-1ec1adfbba5a",
   "metadata": {
    "scrolled": true,
    "tags": []
   },
   "outputs": [],
   "source": [
    "\n",
    "test = geopandas.GeoDataFrame(\n",
    "    gdf, geometry=geopandas.points_from_xy(gdf.lon, gdf.lat), crs=\"WGS84\"\n",
    ")\n",
    "njwla_df = geopandas.clip(test, nj_wla)\n",
    "njwla_df"
   ]
  },
  {
   "cell_type": "markdown",
   "id": "199efcb9-ddf8-43e8-821d-1441d77ab61b",
   "metadata": {
    "tags": []
   },
   "source": [
    "## Group by month and split into cold pool setup, peak, breakdown periods"
   ]
  },
  {
   "cell_type": "code",
   "execution_count": null,
   "id": "0b72f988-94b6-4f0e-a2d0-52deaa35c5fc",
   "metadata": {},
   "outputs": [],
   "source": [
    "njwla_df=njwla_df.rename(columns={'glider':'gliders'})\n",
    "njwla_df1=njwla_df.reset_index()\n",
    "njwla_df1['time'].dt.month\n",
    "month_group = njwla_df1.groupby(njwla_df1['time'].dt.month)\n",
    "print(month_group.groups.keys())\n",
    "may = month_group.get_group(5)\n",
    "june = month_group.get_group(6)\n",
    "july = month_group.get_group(7)\n",
    "august= month_group.get_group(8)\n",
    "september= month_group.get_group(9)\n",
    "october= month_group.get_group(10)\n",
    "\n",
    "\n",
    "set_up = pd.concat([may,june],ignore_index=True)\n",
    "peak = pd.concat([july,august],ignore_index=True)\n",
    "breakdown = pd.concat([september,october],ignore_index=True)"
   ]
  },
  {
   "cell_type": "markdown",
   "id": "891a59db-56ed-425d-a4b6-991141f9dedf",
   "metadata": {},
   "source": [
    "## Clean up data - get rid of profiles that min depth >3m"
   ]
  },
  {
   "cell_type": "code",
   "execution_count": null,
   "id": "5dd5d2ae-d8a3-4a36-acac-3de474e841e8",
   "metadata": {},
   "outputs": [],
   "source": [
    "\n",
    "\n",
    "grouped = set_up.groupby([set_up.gliders,set_up.time])\n",
    "filtered_groups = [group for name, group in grouped if remove_profiles(group,thresh=3)]\n",
    "set_upf = pd.concat(filtered_groups)\n",
    "\n",
    "grouped = peak.groupby([peak.gliders,peak.time])\n",
    "filtered_groups = [group for name, group in grouped if remove_profiles(group,thresh=3)]\n",
    "peakf = pd.concat(filtered_groups)\n",
    "\n",
    "grouped = breakdown.groupby([breakdown.gliders,breakdown.time])\n",
    "filtered_groups = [group for name, group in grouped if remove_profiles(group,thresh=3)]\n",
    "breakdownf = pd.concat(filtered_groups)"
   ]
  },
  {
   "cell_type": "markdown",
   "id": "527bf5f3-4b7f-403a-a529-f84373e50048",
   "metadata": {},
   "source": [
    "## calc density and potential density per profile per period"
   ]
  },
  {
   "cell_type": "code",
   "execution_count": null,
   "id": "4b6a6165-0886-4496-a189-d1658d232d97",
   "metadata": {},
   "outputs": [],
   "source": [
    "set_up=set_upf[set_upf.columns[:-1]]\n",
    "set_up = set_up.groupby([set_up.gliders,set_up.time]).apply(prof_dens)\n",
    "set_up=set_up.drop(['time','gliders'],axis=1).reset_index() \n",
    "set_up = set_up.drop('level_2',axis=1)\n",
    "set_up = set_up.groupby([set_up.gliders,set_up.time]).apply(prof_potdens)\n",
    "set_up=set_up.drop(['time','gliders'],axis=1).reset_index()\n",
    "\n",
    "peak=peakf[peakf.columns[:-1]]\n",
    "peak = peak.groupby([peak.gliders,peak.time]).apply(prof_dens)\n",
    "peak=peak.drop(['time','gliders'],axis=1).reset_index()\n",
    "peak = peak.drop('level_2',axis=1)\n",
    "peak = peak.groupby([peak.gliders,peak.time]).apply(prof_potdens)\n",
    "peak=peak.drop(['time','gliders'],axis=1).reset_index() \n",
    "\n",
    "breakdown=breakdownf[breakdownf.columns[:-1]]\n",
    "breakdown = breakdown.groupby([breakdown.gliders,breakdown.time]).apply(prof_dens)\n",
    "breakdown=breakdown.drop(['time','gliders'],axis=1).reset_index() \n",
    "breakdown = breakdown.drop('level_2',axis=1)\n",
    "breakdown = breakdown.groupby([breakdown.gliders,breakdown.time]).apply(prof_potdens)\n",
    "breakdown=breakdown.drop(['time','gliders'],axis=1).reset_index() "
   ]
  },
  {
   "cell_type": "markdown",
   "id": "36f87c2e-e314-4263-a949-504d781ddf45",
   "metadata": {},
   "source": [
    "## Get surface and bottom depth, temperature, salinity for each profile per period"
   ]
  },
  {
   "cell_type": "code",
   "execution_count": null,
   "id": "e8598702-2a3c-479c-a8f8-7f5b83928309",
   "metadata": {},
   "outputs": [],
   "source": [
    "setup_stuff=set_up.groupby([set_up.gliders,set_up.time]).apply(get_vars_bydepth).reset_index()   \n",
    "setup_stuff[['surf_depth', 'bot_depth' , 'surf_temp', 'bot_temp', 'surf_sal', 'bot_sal','lat','lon']] = setup_stuff[0].apply(pd.Series)\n",
    "\n",
    "peak_stuff=peak.groupby([peak.gliders,peak.time]).apply(get_vars_bydepth).reset_index()   \n",
    "peak_stuff[['surf_depth', 'bot_depth' , 'surf_temp', 'bot_temp', 'surf_sal', 'bot_sal','lat','lon']] = peak_stuff[0].apply(pd.Series)\n",
    "\n",
    "break_stuff=breakdown.groupby([breakdown.gliders,breakdown.time]).apply(get_vars_bydepth).reset_index()   \n",
    "break_stuff[['surf_depth', 'bot_depth' , 'surf_temp', 'bot_temp', 'surf_sal', 'bot_sal','lat','lon']] = break_stuff[0].apply(pd.Series)\n",
    "\n",
    "setup_stuff=setup_stuff.drop(0,axis=1)\n",
    "peak_stuff=peak_stuff.drop(0,axis=1)\n",
    "break_stuff=break_stuff.drop(0,axis=1)"
   ]
  },
  {
   "cell_type": "markdown",
   "id": "514b1bb7-ad3b-48db-94ae-cf0a84b1c1e9",
   "metadata": {},
   "source": [
    "## Calculate the upper and lower Mixed Layer Depth (MLD) and potential energy anomaly (PEA) for each profile per period"
   ]
  },
  {
   "cell_type": "code",
   "execution_count": null,
   "id": "80cc1930-4816-461f-a3c1-daee7ca41cc5",
   "metadata": {
    "scrolled": true
   },
   "outputs": [],
   "source": [
    "mld_setup=set_up.groupby([set_up.gliders,set_up.time]).apply(calc_mld,ref_depth=4,deltaT=0.5).reset_index()\n",
    "mld_setup[['mldU','mldL','qcU', 'qcL']] = mld_setup[0].apply(pd.Series)\n",
    "pea_setup=set_up.groupby([set_up.gliders,set_up.time]).apply(prof_phi).reset_index().rename(columns={0:'pea'})\n",
    "\n",
    "mld_break=breakdown.groupby([breakdown.gliders,breakdown.time]).apply(calc_mld,ref_depth=4,deltaT=0.5).reset_index()\n",
    "mld_break[['mldU','mldL','qcU', 'qcL']] = mld_break[0].apply(pd.Series)\n",
    "pea_break=breakdown.groupby([breakdown.gliders,breakdown.time]).apply(prof_phi).reset_index().rename(columns={0:'pea'})\n",
    "\n",
    "mld_peak=peak.groupby([peak.gliders,peak.time]).apply(calc_mld,ref_depth=4,deltaT=0.5).reset_index()\n",
    "mld_peak[['mldU','mldL','qcU', 'qcL']] = mld_peak[0].apply(pd.Series)\n",
    "pea_peak=peak.groupby([peak.gliders,peak.time]).apply(prof_phi).reset_index().rename(columns={0:'pea'})\n",
    "\n",
    "setup_stuff['pea'] = pea_setup['pea']\n",
    "break_stuff['pea'] = pea_break['pea']\n",
    "peak_stuff['pea'] = pea_peak['pea']\n",
    "#combine with other stuff dataframes\n",
    "if mld_setup['time'].equals(setup_stuff['time']):\n",
    "    setup_stuff['mld_upper']=mld_setup.mldU\n",
    "    setup_stuff['qc_upper']=mld_setup.qcU\n",
    "    setup_stuff['mld_lower']=mld_setup.mldL\n",
    "    setup_stuff['qc_lower']=mld_setup.qcL\n",
    "if mld_break['time'].equals(break_stuff['time']):\n",
    "    break_stuff['mld_upper']=mld_break.mldU\n",
    "    break_stuff['qc_upper']=mld_break.qcU\n",
    "    break_stuff['mld_lower']=mld_break.mldL\n",
    "    break_stuff['qc_lower']=mld_break.qcL\n",
    "if mld_peak['time'].equals(peak_stuff['time']):\n",
    "    peak_stuff['mld_upper']=mld_peak.mldU\n",
    "    peak_stuff['qc_upper']=mld_peak.qcU\n",
    "    peak_stuff['mld_lower']=mld_peak.mldL\n",
    "    peak_stuff['qc_lower']=mld_peak.qcL"
   ]
  },
  {
   "cell_type": "markdown",
   "id": "6c7ddcdb-52cc-491b-87ae-3529b75d0d15",
   "metadata": {},
   "source": [
    "## Calculate the daily average to \"normalize\" temporally"
   ]
  },
  {
   "cell_type": "code",
   "execution_count": null,
   "id": "6abaa929-138b-46ef-a889-5d31faaa66d5",
   "metadata": {},
   "outputs": [],
   "source": [
    "\n",
    "setup_stuff=setup_stuff.groupby([setup_stuff.gliders,setup_stuff.time.dt.year.rename('year'),setup_stuff.time.dt.month.rename('month'),setup_stuff.time.dt.day.rename('day')]).mean().reset_index().drop('time',axis=1)\n",
    "setup_stuff['time']=pd.to_datetime(setup_stuff[['year','month', 'day']])\n",
    "\n",
    "\n",
    "peak_stuff=peak_stuff.groupby([peak_stuff.gliders,peak_stuff.time.dt.year.rename('year'),peak_stuff.time.dt.month.rename('month'),peak_stuff.time.dt.day.rename('day')]).mean().reset_index().drop('time',axis=1)\n",
    "peak_stuff['time']=pd.to_datetime(peak_stuff[['year','month', 'day']])\n",
    "\n",
    "\n",
    "break_stuff=break_stuff.groupby([break_stuff.gliders,break_stuff.time.dt.year.rename('year'),break_stuff.time.dt.month.rename('month'),break_stuff.time.dt.day.rename('day')]).mean().reset_index().drop('time',axis=1)\n",
    "break_stuff['time']=pd.to_datetime(break_stuff[['year','month', 'day']])\n",
    "\n",
    "\n"
   ]
  },
  {
   "cell_type": "markdown",
   "id": "5ac8204c-f8b6-4dea-9930-2b1445f2e6e9",
   "metadata": {},
   "source": [
    "## Calculate the mean, median, standard deviation of the upper and lower MLD, density, and PEA"
   ]
  },
  {
   "cell_type": "code",
   "execution_count": null,
   "id": "8a4e6e5e-afb7-4073-a788-b1714838048e",
   "metadata": {},
   "outputs": [],
   "source": [
    "\n",
    "print('setup')\n",
    "mld_df = setup_stuff\n",
    "df = set_up\n",
    "s_up,s_low,s_pp=mld_stats(mld_df,df)\n",
    "print('\\npeak')\n",
    "mld_df = peak_stuff\n",
    "df = peak\n",
    "p_up,p_low,p_pp=mld_stats(mld_df,df)\n",
    "print('\\nbreakdown')\n",
    "mld_df = break_stuff\n",
    "df = breakdown\n",
    "b_up,b_low,b_pp=mld_stats(mld_df,df)"
   ]
  },
  {
   "cell_type": "markdown",
   "id": "19d34ed7-c26e-4f7b-ae1b-e2ae328ae53b",
   "metadata": {},
   "source": [
    "## export composite profiles that will be used for initial conditions for the models"
   ]
  },
  {
   "cell_type": "code",
   "execution_count": null,
   "id": "f981a83b-bf64-467e-b1ac-aa2f46e340c8",
   "metadata": {
    "scrolled": true
   },
   "outputs": [],
   "source": [
    "dmin=0\n",
    "dmax=25\n",
    "stride=0.25\n",
    "vtype='avg'\n",
    "\n",
    "# set up\n",
    "df=setup_stuff\n",
    "stat_up = s_up\n",
    "stat_low = s_low\n",
    "mldU,mldL,p_thick,dens,z,pea=create_dens_prof(df,stat_up,stat_low,dmin,dmax,stride,vtype)\n",
    "dfs = pd.DataFrame({'z':z,'dens':dens.values,'mldU':[mldU]*len(z),'mldL':[mldL]*len(z),'per':['setup']*len(z)})\n",
    "\n",
    "# peak\n",
    "df=peak_stuff\n",
    "stat_up = p_up\n",
    "stat_low = p_low\n",
    "mldU,mldL,p_thick,dens,z,pea=create_dens_prof(df,stat_up,stat_low,dmin,dmax,stride,vtype)\n",
    "dfp = pd.DataFrame({'z':z,'dens':dens.values,'mldU':[mldU]*len(z),'mldL':[mldL]*len(z),'per':['peak']*len(z)})\n",
    "\n",
    "\n",
    "#breakdown\n",
    "df=break_stuff\n",
    "stat_up = b_up\n",
    "stat_low = b_low\n",
    "mldU,mldL,p_thick,dens,z,pea=create_dens_prof(df,stat_up,stat_low,dmin,dmax,stride,vtype)\n",
    "dfb = pd.DataFrame({'z':z,'dens':dens.values,'mldU':[mldU]*len(z),'mldL':[mldL]*len(z),'per':['breakdown']*len(z)})\n",
    "\n",
    "\n",
    "\n",
    "all_df = pd.concat([dfs,dfp,dfb],ignore_index=True)\n",
    "all_df.to_csv('./carp_pea_init_profs.csv',index=False)"
   ]
  },
  {
   "cell_type": "code",
   "execution_count": null,
   "id": "3799535b-be7d-4e04-a29d-5efcb5e86ed6",
   "metadata": {},
   "outputs": [],
   "source": []
  }
 ],
 "metadata": {
  "kernelspec": {
   "display_name": "Python 3 (ipykernel)",
   "language": "python",
   "name": "python3"
  },
  "language_info": {
   "codemirror_mode": {
    "name": "ipython",
    "version": 3
   },
   "file_extension": ".py",
   "mimetype": "text/x-python",
   "name": "python",
   "nbconvert_exporter": "python",
   "pygments_lexer": "ipython3",
   "version": "3.12.3"
  }
 },
 "nbformat": 4,
 "nbformat_minor": 5
}
